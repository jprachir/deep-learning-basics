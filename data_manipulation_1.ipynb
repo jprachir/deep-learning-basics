{
  "nbformat": 4,
  "nbformat_minor": 0,
  "metadata": {
    "colab": {
      "name": "data_manipulation_1.ipynb",
      "provenance": [],
      "authorship_tag": "ABX9TyMxY5E9YpQBty5K/0sa4Trj",
      "include_colab_link": true
    },
    "kernelspec": {
      "name": "python3",
      "display_name": "Python 3"
    }
  },
  "cells": [
    {
      "cell_type": "markdown",
      "metadata": {
        "id": "view-in-github",
        "colab_type": "text"
      },
      "source": [
        "<a href=\"https://colab.research.google.com/github/jprachir/deep-learning-basics/blob/main/data_manipulation_1.ipynb\" target=\"_parent\"><img src=\"https://colab.research.google.com/assets/colab-badge.svg\" alt=\"Open In Colab\"/></a>"
      ]
    },
    {
      "cell_type": "markdown",
      "metadata": {
        "id": "d0T--zRUJhDL"
      },
      "source": [
        "\n",
        "\n",
        "> data manipulation\n",
        "1. mathematical operations\n",
        "1. broadcasting\n",
        "1. slicing, indexing\n",
        "1. memory saving\n",
        "1. conversion to other python objects\n",
        "\n"
      ]
    },
    {
      "cell_type": "code",
      "metadata": {
        "id": "NP_UDyS5v3c9"
      },
      "source": [
        "import torch\n",
        "import numpy as np"
      ],
      "execution_count": 24,
      "outputs": []
    },
    {
      "cell_type": "code",
      "metadata": {
        "colab": {
          "base_uri": "https://localhost:8080/"
        },
        "id": "9KWPFRda4d4l",
        "outputId": "2602c615-1535-4fc8-dfe8-0a910aa063a2"
      },
      "source": [
        "x = torch.tensor((2))\n",
        "x.shape"
      ],
      "execution_count": 6,
      "outputs": [
        {
          "output_type": "execute_result",
          "data": {
            "text/plain": [
              "torch.Size([])"
            ]
          },
          "metadata": {
            "tags": []
          },
          "execution_count": 6
        }
      ]
    },
    {
      "cell_type": "code",
      "metadata": {
        "colab": {
          "base_uri": "https://localhost:8080/"
        },
        "id": "xc3dSHe6wolg",
        "outputId": "b0b8d498-757d-468b-890e-9ba1dc8b85cd"
      },
      "source": [
        "#hack: 4 dimensional because 4 sq brackets\n",
        "x = torch.zeros((2,2,3,2)) \n",
        "print(x)\n",
        "x.shape"
      ],
      "execution_count": 47,
      "outputs": [
        {
          "output_type": "stream",
          "text": [
            "tensor([[[[0., 0.],\n",
            "          [0., 0.],\n",
            "          [0., 0.]],\n",
            "\n",
            "         [[0., 0.],\n",
            "          [0., 0.],\n",
            "          [0., 0.]]],\n",
            "\n",
            "\n",
            "        [[[0., 0.],\n",
            "          [0., 0.],\n",
            "          [0., 0.]],\n",
            "\n",
            "         [[0., 0.],\n",
            "          [0., 0.],\n",
            "          [0., 0.]]]])\n"
          ],
          "name": "stdout"
        },
        {
          "output_type": "execute_result",
          "data": {
            "text/plain": [
              "torch.Size([2, 2, 3, 2])"
            ]
          },
          "metadata": {
            "tags": []
          },
          "execution_count": 47
        }
      ]
    },
    {
      "cell_type": "code",
      "metadata": {
        "colab": {
          "base_uri": "https://localhost:8080/"
        },
        "id": "xqT6lH4Hwq8T",
        "outputId": "bc327414-86d0-48cd-b27d-44716abae71a"
      },
      "source": [
        "y = torch.zeros((2,3,4)) #3d, 2 matrices each of (3x4) matrix\n",
        "y"
      ],
      "execution_count": 51,
      "outputs": [
        {
          "output_type": "execute_result",
          "data": {
            "text/plain": [
              "tensor([[[0., 0., 0., 0.],\n",
              "         [0., 0., 0., 0.],\n",
              "         [0., 0., 0., 0.]],\n",
              "\n",
              "        [[0., 0., 0., 0.],\n",
              "         [0., 0., 0., 0.],\n",
              "         [0., 0., 0., 0.]]])"
            ]
          },
          "metadata": {
            "tags": []
          },
          "execution_count": 51
        }
      ]
    },
    {
      "cell_type": "code",
      "metadata": {
        "colab": {
          "base_uri": "https://localhost:8080/"
        },
        "id": "pHxEgHr37usg",
        "outputId": "88bf8afc-1def-4e1d-c784-2f4233f482ab"
      },
      "source": [
        "#5d, 2 matrix of 2x(1x(5x(3x4))))\n",
        "z = torch.zeros((2,1,5,3,4))   \n",
        "z"
      ],
      "execution_count": 54,
      "outputs": [
        {
          "output_type": "execute_result",
          "data": {
            "text/plain": [
              "tensor([[[[[0., 0., 0., 0.],\n",
              "           [0., 0., 0., 0.],\n",
              "           [0., 0., 0., 0.]],\n",
              "\n",
              "          [[0., 0., 0., 0.],\n",
              "           [0., 0., 0., 0.],\n",
              "           [0., 0., 0., 0.]],\n",
              "\n",
              "          [[0., 0., 0., 0.],\n",
              "           [0., 0., 0., 0.],\n",
              "           [0., 0., 0., 0.]],\n",
              "\n",
              "          [[0., 0., 0., 0.],\n",
              "           [0., 0., 0., 0.],\n",
              "           [0., 0., 0., 0.]],\n",
              "\n",
              "          [[0., 0., 0., 0.],\n",
              "           [0., 0., 0., 0.],\n",
              "           [0., 0., 0., 0.]]]],\n",
              "\n",
              "\n",
              "\n",
              "        [[[[0., 0., 0., 0.],\n",
              "           [0., 0., 0., 0.],\n",
              "           [0., 0., 0., 0.]],\n",
              "\n",
              "          [[0., 0., 0., 0.],\n",
              "           [0., 0., 0., 0.],\n",
              "           [0., 0., 0., 0.]],\n",
              "\n",
              "          [[0., 0., 0., 0.],\n",
              "           [0., 0., 0., 0.],\n",
              "           [0., 0., 0., 0.]],\n",
              "\n",
              "          [[0., 0., 0., 0.],\n",
              "           [0., 0., 0., 0.],\n",
              "           [0., 0., 0., 0.]],\n",
              "\n",
              "          [[0., 0., 0., 0.],\n",
              "           [0., 0., 0., 0.],\n",
              "           [0., 0., 0., 0.]]]]])"
            ]
          },
          "metadata": {
            "tags": []
          },
          "execution_count": 54
        }
      ]
    },
    {
      "cell_type": "code",
      "metadata": {
        "colab": {
          "base_uri": "https://localhost:8080/"
        },
        "id": "o615Xjfb23E8",
        "outputId": "5573404b-f3e9-43af-dfb2-eae4ce108088"
      },
      "source": [
        "x = np.array([1,2,4,8])\n",
        "y = np.array([2,2,2,1.9])\n",
        "x + y, x*y, x/y, x-y, x ** y, np.exp(y)\n",
        "np.mean(y)"
      ],
      "execution_count": 39,
      "outputs": [
        {
          "output_type": "execute_result",
          "data": {
            "text/plain": [
              "1.975"
            ]
          },
          "metadata": {
            "tags": []
          },
          "execution_count": 39
        }
      ]
    },
    {
      "cell_type": "code",
      "metadata": {
        "colab": {
          "base_uri": "https://localhost:8080/"
        },
        "id": "T81ilG8s9XQI",
        "outputId": "a2334466-6bf6-47e5-959a-a1fbfb30f4b8"
      },
      "source": [
        "x = np.array([1,1])\n",
        "y = np.array([2,1])\n",
        "\n",
        "print(x==y)\n",
        "print(x > y)\n",
        "print(y>x)"
      ],
      "execution_count": 81,
      "outputs": [
        {
          "output_type": "stream",
          "text": [
            "[False  True]\n",
            "[False False]\n",
            "[ True False]\n"
          ],
          "name": "stdout"
        }
      ]
    },
    {
      "cell_type": "code",
      "metadata": {
        "colab": {
          "base_uri": "https://localhost:8080/"
        },
        "id": "0ceExekmCm66",
        "outputId": "726deffb-1782-4761-c4cd-3f2bebdc1218"
      },
      "source": [
        "before = id(y)\n",
        "print(before)\n",
        "y = y + x\n",
        "id(y) == before\n",
        "id(y)"
      ],
      "execution_count": 68,
      "outputs": [
        {
          "output_type": "stream",
          "text": [
            "139856743445808\n"
          ],
          "name": "stdout"
        },
        {
          "output_type": "execute_result",
          "data": {
            "text/plain": [
              "139856742906656"
            ]
          },
          "metadata": {
            "tags": []
          },
          "execution_count": 68
        }
      ]
    },
    {
      "cell_type": "code",
      "metadata": {
        "colab": {
          "base_uri": "https://localhost:8080/"
        },
        "id": "_fWz3zNIGpy2",
        "outputId": "be94e3c1-dcfb-4974-db7a-d8f476df1245"
      },
      "source": [
        "#reduce memory allocation so inplace operation\n",
        "Z = np.zeros_like((2,1))\n",
        "print(id(Z))\n",
        "Z[:] = x + y\n",
        "print(id(Z))"
      ],
      "execution_count": 78,
      "outputs": [
        {
          "output_type": "stream",
          "text": [
            "139856744017792\n",
            "139856744017792\n"
          ],
          "name": "stdout"
        }
      ]
    },
    {
      "cell_type": "code",
      "metadata": {
        "id": "mD0GRrWMHRmm"
      },
      "source": [
        ""
      ],
      "execution_count": null,
      "outputs": []
    }
  ]
}